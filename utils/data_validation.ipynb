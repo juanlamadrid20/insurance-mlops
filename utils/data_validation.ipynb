{
 "cells": [
  {
   "cell_type": "code",
   "execution_count": null,
   "metadata": {},
   "outputs": [],
   "source": [
    "# Data Validation Notebook for Healthcare Insurance MLOps\n",
    "# This notebook validates prerequisite data before running batch inference\n",
    "\n",
    "import sys\n",
    "from pyspark.sql import SparkSession\n",
    "from pyspark.sql.functions import *\n",
    "\n",
    "# Get parameters\n",
    "dbutils.widgets.text(\"catalog\", \"juan_dev\", \"Unity Catalog name\")\n",
    "dbutils.widgets.text(\"schema\", \"healthcare_data\", \"Schema name\")\n",
    "dbutils.widgets.text(\"validation_date\", \"\", \"Validation date (YYYY-MM-DD)\")\n",
    "\n",
    "catalog = dbutils.widgets.get(\"catalog\")\n",
    "schema = dbutils.widgets.get(\"schema\")\n",
    "validation_date = dbutils.widgets.get(\"validation_date\")\n",
    "\n",
    "print(f\"Validating data for {catalog}.{schema} on {validation_date}\")"
   ]
  },
  {
   "cell_type": "code",
   "execution_count": null,
   "metadata": {},
   "outputs": [],
   "source": [
    "# Validate prerequisite tables exist\n",
    "required_tables = [\n",
    "    f\"{catalog}.{schema}.silver_patients\",\n",
    "    f\"{catalog}.{schema}.dim_patients\"\n",
    "]\n",
    "\n",
    "validation_results = []\n",
    "\n",
    "for table_name in required_tables:\n",
    "    try:\n",
    "        df = spark.table(table_name)\n",
    "        row_count = df.count()\n",
    "        validation_results.append({\n",
    "            \"table\": table_name,\n",
    "            \"status\": \"SUCCESS\",\n",
    "            \"row_count\": row_count,\n",
    "            \"message\": f\"Table exists with {row_count:,} rows\"\n",
    "        })\n",
    "        print(f\"✅ {table_name}: {row_count:,} rows\")\n",
    "    except Exception as e:\n",
    "        validation_results.append({\n",
    "            \"table\": table_name,\n",
    "            \"status\": \"FAILED\",\n",
    "            \"row_count\": 0,\n",
    "            \"message\": str(e)\n",
    "        })\n",
    "        print(f\"❌ {table_name}: {str(e)}\")"
   ]
  },
  {
   "cell_type": "code",
   "execution_count": null,
   "metadata": {},
   "outputs": [],
   "source": [
    "# Check data freshness for dim_patients\n",
    "try:\n",
    "    dim_patients = spark.table(f\"{catalog}.{schema}.dim_patients\")\n",
    "    \n",
    "    # Check for current records\n",
    "    current_records = dim_patients.filter(col(\"is_current_record\") == True).count()\n",
    "    total_records = dim_patients.count()\n",
    "    \n",
    "    print(f\"✅ Current records: {current_records:,} out of {total_records:,} total\")\n",
    "    \n",
    "    # Check required columns\n",
    "    required_columns = [\n",
    "        \"patient_natural_key\", \"patient_sex\", \"patient_region\", \n",
    "        \"patient_age_category\", \"patient_bmi_category\", \"patient_smoking_status\",\n",
    "        \"is_current_record\"\n",
    "    ]\n",
    "    \n",
    "    missing_columns = [col for col in required_columns if col not in dim_patients.columns]\n",
    "    \n",
    "    if missing_columns:\n",
    "        print(f\"❌ Missing required columns: {missing_columns}\")\n",
    "        dbutils.notebook.exit(json.dumps({\"status\": \"FAILED\", \"message\": f\"Missing columns: {missing_columns}\"}))\n",
    "    else:\n",
    "        print(f\"✅ All required columns present\")\n",
    "        \n",
    "except Exception as e:\n",
    "    print(f\"❌ Data validation failed: {str(e)}\")\n",
    "    dbutils.notebook.exit(json.dumps({\"status\": \"FAILED\", \"message\": str(e)}))"
   ]
  },
  {
   "cell_type": "code",
   "execution_count": null,
   "metadata": {},
   "outputs": [],
   "source": [
    "# Final validation summary\n",
    "failed_validations = [r for r in validation_results if r[\"status\"] == \"FAILED\"]\n",
    "\n",
    "if failed_validations:\n",
    "    print(f\"❌ Validation failed: {len(failed_validations)} issues found\")\n",
    "    for failure in failed_validations:\n",
    "        print(f\"  - {failure['table']}: {failure['message']}\")\n",
    "    dbutils.notebook.exit(json.dumps({\"status\": \"FAILED\", \"failed_tables\": len(failed_validations)}))\n",
    "else:\n",
    "    print(f\"✅ All validations passed - ready for batch inference\")\n",
    "    dbutils.notebook.exit(json.dumps({\"status\": \"SUCCESS\", \"validated_tables\": len(validation_results)}))"
   ]
  }
 ],
 "metadata": {
  "kernelspec": {
   "display_name": "Python 3",
   "language": "python",
   "name": "python3"
  },
  "language_info": {
   "name": "python",
   "version": "3.9.0"
  }
 },
 "nbformat": 4,
 "nbformat_minor": 4
}