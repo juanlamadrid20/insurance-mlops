{
 "cells": [
  {
   "cell_type": "code",
   "execution_count": 0,
   "metadata": {
    "application/vnd.databricks.v1+cell": {
     "cellMetadata": {
      "byteLimit": 2048000,
      "rowLimit": 10000
     },
     "inputWidgets": {},
     "nuid": "56e185bc-acc9-41b9-abb8-8ffce88f649a",
     "showTitle": false,
     "tableResultSettingsMap": {},
     "title": ""
    }
   },
   "outputs": [],
   "source": [
    "import pandas as pd\n",
    "import seaborn as sns\n",
    "import matplotlib.pyplot as plt\n",
    "from pyspark.sql.functions import *\n",
    "import mlflow"
   ]
  },
  {
   "cell_type": "code",
   "execution_count": 0,
   "metadata": {
    "application/vnd.databricks.v1+cell": {
     "cellMetadata": {
      "byteLimit": 2048000,
      "rowLimit": 10000
     },
     "inputWidgets": {},
     "nuid": "47addffa-1a6f-4f92-8da9-b10cffc07429",
     "showTitle": false,
     "tableResultSettingsMap": {},
     "title": ""
    }
   },
   "outputs": [],
   "source": [
    "# Start MLflow experiment for EDA tracking\n",
    "mlflow.set_experiment(\"/Users/juan.lamadrid@databricks.com/experiments/insurance_cost_prediction_eda\")\n",
    "\n",
    "with mlflow.start_run(run_name=\"healthcare_insurance_eda\"):\n",
    "    # Load cleaned data\n",
    "    df = spark.table(\"juan_dev.ml.insurance_silver\").toPandas()\n",
    "    \n",
    "    # Healthcare-specific data profiling\n",
    "    eda_results = {\n",
    "        \"total_patients\": len(df),\n",
    "        \"avg_age\": df['age'].mean(),\n",
    "        \"smoker_percentage\": (df['smoker'].sum() / len(df)) * 100,\n",
    "        \"high_cost_threshold\": df['charges'].quantile(0.95),\n",
    "        \"missing_data_percentage\": (df.isnull().sum() / len(df)) * 100\n",
    "    }\n",
    "    \n",
    "    # Log healthcare compliance metrics\n",
    "    # mlflow.log_metrics(eda_results)\n",
    "    # Log healthcare compliance metrics\n",
    "    # mlflow.log_metrics({k: float(v) for k, v in eda_results.items()})\n",
    "    \n",
    "    # Risk factor analysis\n",
    "    risk_analysis = df.groupby(['smoker', 'age_group']).agg({\n",
    "        'charges': ['mean', 'median', 'std'],\n",
    "        'bmi': 'mean'\n",
    "    }).round(2)\n",
    "    \n",
    "    # Log visualizations\n",
    "    plt.figure(figsize=(12, 8))\n",
    "    sns.boxplot(data=df, x='region', y='charges', hue='smoker')\n",
    "    plt.title('Healthcare Costs by Region and Smoking Status')\n",
    "    plt.xticks(rotation=45)\n",
    "    mlflow.log_figure(plt.gcf(), \"cost_distribution_by_region_smoking.png\")\n",
    "    \n",
    "    # Feature correlation analysis\n",
    "    correlation_matrix = df[['age', 'bmi', 'children', 'charges']].corr()\n",
    "    plt.figure(figsize=(10, 8))\n",
    "    sns.heatmap(correlation_matrix, annot=True, cmap='coolwarm')\n",
    "    plt.title('Healthcare Feature Correlations')\n",
    "    mlflow.log_figure(plt.gcf(), \"feature_correlations.png\")\n",
    "    \n",
    "    # Healthcare risk insights\n",
    "    high_risk_patients = df[\n",
    "        (df['smoker'] == True) & \n",
    "        (df['bmi'] > 30) & \n",
    "        (df['age'] > 50)\n",
    "    ]\n",
    "    \n",
    "    mlflow.log_metrics({\n",
    "        \"high_risk_patients_count\": len(high_risk_patients),\n",
    "        \"high_risk_avg_cost\": high_risk_patients['charges'].mean()\n",
    "    })\n"
   ]
  },
  {
   "cell_type": "code",
   "execution_count": 0,
   "metadata": {
    "application/vnd.databricks.v1+cell": {
     "cellMetadata": {
      "byteLimit": 2048000,
      "rowLimit": 10000
     },
     "inputWidgets": {},
     "nuid": "25b0bd2c-70b6-40f7-9016-3ffeab11f74f",
     "showTitle": false,
     "tableResultSettingsMap": {},
     "title": ""
    }
   },
   "outputs": [],
   "source": [
    "\n",
    "from databricks.feature_engineering import FeatureEngineeringClient\n",
    "from pyspark.sql import Window\n",
    "from pyspark.ml.feature import VectorAssembler, StandardScaler\n",
    "import mlflow\n",
    "import mlflow.sklearn\n",
    "\n",
    "fe = FeatureEngineeringClient()\n",
    "\n",
    "# Healthcare insurance feature engineering\n",
    "def create_healthcare_features():\n",
    "    # Load silver data\n",
    "    df = spark.table(\"juan_dev.ml.insurance_silver\")\n",
    "    \n",
    "    # Advanced healthcare risk features\n",
    "    healthcare_features = (\n",
    "        df\n",
    "        # BMI categorization (clinical standard)\n",
    "        .withColumn(\"bmi_category\",\n",
    "                   expr(\"CASE WHEN bmi < 18.5 THEN 'underweight' \" +\n",
    "                        \"WHEN bmi < 25 THEN 'normal' \" +\n",
    "                        \"WHEN bmi < 30 THEN 'overweight' \" +\n",
    "                        \"ELSE 'obese' END\"))\n",
    "        \n",
    "        # Age risk scoring\n",
    "        .withColumn(\"age_risk_score\",\n",
    "                   expr(\"CASE WHEN age < 25 THEN 1 \" +\n",
    "                        \"WHEN age < 35 THEN 2 \" +\n",
    "                        \"WHEN age < 50 THEN 3 \" +\n",
    "                        \"WHEN age < 65 THEN 4 \" +\n",
    "                        \"ELSE 5 END\"))\n",
    "        \n",
    "        # Smoking impact factor\n",
    "        .withColumn(\"smoking_impact\", \n",
    "                   expr(\"CASE WHEN smoker THEN age * 2.5 ELSE age * 1.0 END\"))\n",
    "        \n",
    "        # Family size risk adjustment\n",
    "        .withColumn(\"family_size_factor\", \n",
    "                   expr(\"1 + (children * 0.15)\"))\n",
    "        \n",
    "        # Regional cost adjustment (based on healthcare infrastructure)\n",
    "        .withColumn(\"regional_multiplier\",\n",
    "                   expr(\"CASE WHEN region = 'NORTHEAST' THEN 1.2 \" +\n",
    "                        \"WHEN region = 'NORTHWEST' THEN 1.1 \" +\n",
    "                        \"WHEN region = 'SOUTHEAST' THEN 1.0 \" +\n",
    "                        \"ELSE 0.95 END\"))\n",
    "        \n",
    "        # Health risk composite score\n",
    "        .withColumn(\"health_risk_composite\",\n",
    "                   expr(\"(age_risk_score * 20) + \" +\n",
    "                        \"(CASE WHEN smoker THEN 50 ELSE 0 END) + \" +\n",
    "                        \"(CASE WHEN bmi > 30 THEN 30 ELSE 0 END)\"))\n",
    "        \n",
    "        # Policy interaction features\n",
    "        # .withColumn(\"coverage_to_deductible_ratio\",\n",
    "        #            expr(\"coverage_amount / GREATEST(deductible, 1)\"))\n",
    "    )\n",
    "    \n",
    "    return healthcare_features\n",
    "\n",
    "# Create feature table in Unity Catalog\n",
    "healthcare_features_df = create_healthcare_features()\n",
    "\n",
    "fe.create_table(\n",
    "    name=\"juan_dev.ml.healthcare_features\",\n",
    "    primary_keys=[\"customer_id\"],\n",
    "    df=healthcare_features_df,\n",
    "    description=\"Healthcare-specific features for insurance cost prediction\"\n",
    ")"
   ]
  }
 ],
 "metadata": {
  "application/vnd.databricks.v1+notebook": {
   "computePreferences": null,
   "dashboards": [],
   "environmentMetadata": null,
   "inputWidgetPreferences": null,
   "language": "python",
   "notebookMetadata": {
    "pythonIndentUnit": 2
   },
   "notebookName": "insurance-model-feature",
   "widgets": {}
  },
  "language_info": {
   "name": "python"
  }
 },
 "nbformat": 4,
 "nbformat_minor": 0
}
