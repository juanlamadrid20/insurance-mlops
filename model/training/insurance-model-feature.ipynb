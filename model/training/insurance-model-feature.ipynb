{
 "cells": [
  {
   "cell_type": "code",
   "execution_count": null,
   "id": "10767f6e",
   "metadata": {},
   "outputs": [],
   "source": [
    "import pandas as pd\n",
    "import seaborn as sns\n",
    "import matplotlib.pyplot as plt\n",
    "from pyspark.sql.functions import *\n",
    "import mlflow"
   ]
  },
  {
   "cell_type": "code",
   "execution_count": null,
   "id": "2625b498",
   "metadata": {},
   "outputs": [],
   "source": [
    "# Start MLflow experiment for EDA tracking\n",
    "mlflow.set_experiment(\"/Users/juan.lamadrid@databricks.com/experiments/insurance_cost_prediction_eda\")\n",
    "\n",
    "with mlflow.start_run(run_name=\"healthcare_insurance_eda\"):\n",
    "    # Load cleaned data\n",
    "    df = spark.table(\"juan_dev.ml.insurance_silver\").toPandas()\n",
    "    \n",
    "    # Healthcare-specific data profiling\n",
    "    eda_results = {\n",
    "        \"total_patients\": len(df),\n",
    "        \"avg_age\": df['age'].mean(),\n",
    "        \"smoker_percentage\": (df['smoker'].sum() / len(df)) * 100,\n",
    "        \"high_cost_threshold\": df['charges'].quantile(0.95),\n",
    "        \"missing_data_percentage\": (df.isnull().sum() / len(df)) * 100\n",
    "    }\n",
    "    \n",
    "    # Log healthcare compliance metrics\n",
    "    # mlflow.log_metrics(eda_results)\n",
    "    # Log healthcare compliance metrics\n",
    "    # mlflow.log_metrics({k: float(v) for k, v in eda_results.items()})\n",
    "    \n",
    "    # Risk factor analysis\n",
    "    risk_analysis = df.groupby(['smoker', 'age_group']).agg({\n",
    "        'charges': ['mean', 'median', 'std'],\n",
    "        'bmi': 'mean'\n",
    "    }).round(2)\n",
    "    \n",
    "    # Log visualizations\n",
    "    plt.figure(figsize=(12, 8))\n",
    "    sns.boxplot(data=df, x='region', y='charges', hue='smoker')\n",
    "    plt.title('Healthcare Costs by Region and Smoking Status')\n",
    "    plt.xticks(rotation=45)\n",
    "    mlflow.log_figure(plt.gcf(), \"cost_distribution_by_region_smoking.png\")\n",
    "    \n",
    "    # Feature correlation analysis\n",
    "    correlation_matrix = df[['age', 'bmi', 'children', 'charges']].corr()\n",
    "    plt.figure(figsize=(10, 8))\n",
    "    sns.heatmap(correlation_matrix, annot=True, cmap='coolwarm')\n",
    "    plt.title('Healthcare Feature Correlations')\n",
    "    mlflow.log_figure(plt.gcf(), \"feature_correlations.png\")\n",
    "    \n",
    "    # Healthcare risk insights\n",
    "    high_risk_patients = df[\n",
    "        (df['smoker'] == True) & \n",
    "        (df['bmi'] > 30) & \n",
    "        (df['age'] > 50)\n",
    "    ]\n",
    "    \n",
    "    mlflow.log_metrics({\n",
    "        \"high_risk_patients_count\": len(high_risk_patients),\n",
    "        \"high_risk_avg_cost\": high_risk_patients['charges'].mean()\n",
    "    })\n"
   ]
  }
 ],
 "metadata": {
  "language_info": {
   "name": "python"
  }
 },
 "nbformat": 4,
 "nbformat_minor": 5
}
