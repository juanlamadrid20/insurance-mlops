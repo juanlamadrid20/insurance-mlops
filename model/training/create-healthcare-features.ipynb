{
 "cells": [
  {
   "cell_type": "code",
   "execution_count": 0,
   "metadata": {
    "application/vnd.databricks.v1+cell": {
     "cellMetadata": {
      "byteLimit": 2048000,
      "rowLimit": 10000
     },
     "inputWidgets": {},
     "nuid": "56e185bc-acc9-41b9-abb8-8ffce88f649a",
     "showTitle": false,
     "tableResultSettingsMap": {},
     "title": ""
    }
   },
   "outputs": [],
   "source": [
    "from databricks.feature_engineering import FeatureEngineeringClient\n",
    "from pyspark.sql.functions import *\n",
    "from pyspark.sql import Window\n",
    "import mlflow\n",
    "\n",
    "fe = FeatureEngineeringClient()"
   ]
  },
  {
   "cell_type": "code",
   "execution_count": 0,
   "metadata": {
    "application/vnd.databricks.v1+cell": {
     "cellMetadata": {
      "byteLimit": 2048000,
      "rowLimit": 10000
     },
     "inputWidgets": {},
     "nuid": "25b0bd2c-70b6-40f7-9016-3ffeab11f74f",
     "showTitle": false,
     "tableResultSettingsMap": {},
     "title": ""
    }
   },
   "outputs": [],
   "source": [
    "def create_healthcare_patient_features():\n",
    "    \"\"\"Create feature table based on the new healthcare schema\"\"\"\n",
    "    # Load data from new healthcare schema\n",
    "    df = spark.table(\"juan_dev.healthcare_data.silver_patients\")\n",
    "    \n",
    "    # Create features that match the original training expectations\n",
    "    healthcare_features = (\n",
    "        df\n",
    "        # Use the actual column names from silver_patients table\n",
    "        .withColumn(\"age\", col(\"age_years\"))\n",
    "        .withColumn(\"sex\", col(\"sex_standardized\"))\n",
    "        .withColumn(\"region\", col(\"region_standardized\"))\n",
    "        .withColumn(\"bmi\", col(\"bmi_validated\"))\n",
    "        .withColumn(\"children\", col(\"children_count\"))\n",
    "        .withColumn(\"smoker\", col(\"smoker_flag\"))\n",
    "        .withColumn(\"charges\", col(\"insurance_charges\"))  # This is our target variable\n",
    "        \n",
    "        # Create derived features similar to original\n",
    "        # Age risk scoring\n",
    "        .withColumn(\"age_risk_score\",\n",
    "                   expr(\"CASE WHEN age < 25 THEN 1 \" +\n",
    "                        \"WHEN age < 35 THEN 2 \" +\n",
    "                        \"WHEN age < 50 THEN 3 \" +\n",
    "                        \"WHEN age < 65 THEN 4 \" +\n",
    "                        \"ELSE 5 END\"))\n",
    "        \n",
    "        # Smoking impact factor\n",
    "        .withColumn(\"smoking_impact\", \n",
    "                   expr(\"CASE WHEN smoker THEN age * 2.5 ELSE age * 1.0 END\"))\n",
    "        \n",
    "        # Family size risk adjustment\n",
    "        .withColumn(\"family_size_factor\", \n",
    "                   expr(\"1 + (children * 0.15)\"))\n",
    "        \n",
    "        # Regional cost adjustment\n",
    "        .withColumn(\"regional_multiplier\",\n",
    "                   expr(\"CASE WHEN region = 'northeast' THEN 1.2 \" +\n",
    "                        \"WHEN region = 'northwest' THEN 1.1 \" +\n",
    "                        \"WHEN region = 'southeast' THEN 1.0 \" +\n",
    "                        \"ELSE 0.95 END\"))\n",
    "        \n",
    "        # Health risk composite score\n",
    "        .withColumn(\"health_risk_composite\",\n",
    "                   expr(\"(age_risk_score * 20) + \" +\n",
    "                        \"(CASE WHEN smoker THEN 50 ELSE 0 END) + \" +\n",
    "                        \"(CASE WHEN bmi > 30 THEN 30 ELSE 0 END)\"))\n",
    "        \n",
    "        # Add healthcare specific features\n",
    "        .withColumn(\"data_quality_score\", coalesce(col(\"data_quality_score\"), lit(0.8)))\n",
    "        .withColumn(\"hipaa_compliant\", col(\"hipaa_deidentified\"))\n",
    "        \n",
    "        # Use patient_id as the primary key for features\n",
    "        .select(\n",
    "            col(\"patient_id\"),\n",
    "            col(\"age\"), col(\"sex\"), col(\"region\"), col(\"bmi\"), \n",
    "            col(\"children\"), col(\"smoker\"), col(\"charges\"),\n",
    "            col(\"age_risk_score\"), col(\"smoking_impact\"), \n",
    "            col(\"family_size_factor\"), col(\"regional_multiplier\"),\n",
    "            col(\"health_risk_composite\"), col(\"data_quality_score\"),\n",
    "            col(\"hipaa_compliant\"), col(\"processed_at\")\n",
    "        )\n",
    "    )\n",
    "    \n",
    "    return healthcare_features\n",
    "\n",
    "# Create feature table\n",
    "print(\"Creating healthcare patient features...\")\n",
    "healthcare_features_df = create_healthcare_patient_features()\n",
    "\n",
    "# Display sample to verify\n",
    "healthcare_features_df.show(5)\n",
    "\n",
    "# Create the feature table\n",
    "feature_table_name = \"juan_dev.healthcare_data.patient_features\"\n",
    "\n",
    "try:\n",
    "    fe.create_table(\n",
    "        name=feature_table_name,\n",
    "        primary_keys=[\"patient_id\"],\n",
    "        df=healthcare_features_df,\n",
    "        description=\"Healthcare patient features for insurance cost prediction using new schema\"\n",
    "    )\n",
    "    print(f\"Successfully created feature table: {feature_table_name}\")\n",
    "except Exception as e:\n",
    "    print(f\"Feature table might already exist: {e}\")\n",
    "    # Try to write to the existing table\n",
    "    fe.write_table(\n",
    "        name=feature_table_name,\n",
    "        df=healthcare_features_df,\n",
    "        mode=\"overwrite\"\n",
    "    )\n",
    "    print(f\"Updated existing feature table: {feature_table_name}\")"
   ]
  }
 ],
 "metadata": {
  "application/vnd.databricks.v1+notebook": {
   "computePreferences": null,
   "dashboards": [],
   "environmentMetadata": null,
   "inputWidgets": null,
   "language": "python",
   "notebookMetadata": {
    "pythonIndentUnit": 2
   },
   "notebookName": "create-healthcare-features",
   "widgets": {}
  },
  "language_info": {
   "name": "python"
  }
 },
 "nbformat": 4,
 "nbformat_minor": 0
}
