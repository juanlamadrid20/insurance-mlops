{
 "cells": [
  {
   "cell_type": "code",
   "execution_count": 0,
   "metadata": {
    "application/vnd.databricks.v1+cell": {
     "cellMetadata": {
      "byteLimit": 2048000,
      "rowLimit": 10000
     },
     "inputWidgets": {},
     "nuid": "df56eaca-1765-48ca-9e31-050f67ecb5fe",
     "showTitle": false,
     "tableResultSettingsMap": {},
     "title": ""
    }
   },
   "outputs": [],
   "source": [
    "import csv\n",
    "import os\n",
    "from faker import Faker\n",
    "import numpy as np\n",
    "from datetime import datetime\n",
    "\n",
    "class HealthcareSyntheticDataGenerator:\n",
    "    def __init__(self):\n",
    "        self.fake = Faker()\n",
    "\n",
    "    def generate_synthetic_patients_csv(self, n_patients=10000, output_dir=\"/Volumes/juan_dev/ml/data/inputs/insurance/\"):\n",
    "        \"\"\"Generate HIPAA-compliant synthetic patient data and save to CSV with a timestamped filename\"\"\"\n",
    "        \n",
    "        np.random.seed(42)\n",
    "\n",
    "        # Ensure output directory exists\n",
    "        os.makedirs(output_dir, exist_ok=True)\n",
    "\n",
    "        # Generate unique filename with timestamp\n",
    "        timestamp = datetime.now().strftime(\"%Y%m%d_%H%M%S\")\n",
    "        file_name = f\"synthetic_patients_{timestamp}.csv\"\n",
    "        full_path = os.path.join(output_dir, file_name)\n",
    "\n",
    "        with open(full_path, mode='w', newline='') as csvfile:\n",
    "            writer = csv.writer(csvfile)\n",
    "            writer.writerow(['customer_id', 'age', 'sex', 'bmi', 'children', 'smoker', 'region', 'charges', 'timestamp'])\n",
    "\n",
    "            for i in range(n_patients):\n",
    "                age = int(np.random.normal(45, 15))\n",
    "                age = max(18, min(85, age))\n",
    "\n",
    "                sex = np.random.choice(['MALE', 'FEMALE'])\n",
    "                region = np.random.choice(['NORTHEAST', 'NORTHWEST', 'SOUTHEAST', 'SOUTHWEST'])\n",
    "                bmi_base = np.random.normal(28, 6)\n",
    "                bmi = float(max(16, min(50, bmi_base)))\n",
    "\n",
    "                smoking_prob = 0.15 + (age - 30) * 0.001\n",
    "                smoker = np.random.random() < smoking_prob\n",
    "                children = int(max(0, np.random.poisson(1.2)))\n",
    "\n",
    "                base_cost = 3000\n",
    "                age_factor = (age / 40) ** 1.5\n",
    "                bmi_factor = 1 + max(0, (bmi - 25) / 25)\n",
    "                smoking_factor = 2.5 if smoker else 1.0\n",
    "                children_factor = 1 + (children * 0.1)\n",
    "                noise = float(np.random.lognormal(0, 0.3))\n",
    "\n",
    "                charges = base_cost * age_factor * bmi_factor * smoking_factor * children_factor * noise\n",
    "                timestamp = self.fake.date_time_this_year().isoformat()\n",
    "\n",
    "                writer.writerow([\n",
    "                    1000000 + i,\n",
    "                    age,\n",
    "                    sex,\n",
    "                    round(bmi, 1),\n",
    "                    children,\n",
    "                    smoker,\n",
    "                    region,\n",
    "                    round(charges, 2),\n",
    "                    timestamp\n",
    "                ])\n",
    "\n",
    "        print(f\"✅ CSV file created at: {full_path}\")\n",
    "        return full_path\n",
    "\n",
    "# Example usage\n",
    "generator = HealthcareSyntheticDataGenerator()\n",
    "generator.generate_synthetic_patients_csv(5000)\n"
   ]
  }
 ],
 "metadata": {
  "application/vnd.databricks.v1+notebook": {
   "computePreferences": null,
   "dashboards": [],
   "environmentMetadata": {
    "base_environment": "dbe_41a50460-c90b-4840-9288-afcb847395d5",
    "environment_version": "2"
   },
   "inputWidgetPreferences": null,
   "language": "python",
   "notebookMetadata": {
    "pythonIndentUnit": 2
   },
   "notebookName": "insurance-model-datagen-csv",
   "widgets": {}
  },
  "language_info": {
   "name": "python"
  }
 },
 "nbformat": 4,
 "nbformat_minor": 0
}
